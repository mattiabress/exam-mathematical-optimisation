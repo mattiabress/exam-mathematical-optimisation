{
 "cells": [
  {
   "cell_type": "code",
   "execution_count": 20,
   "outputs": [],
   "source": [
    "import numpy as np\n",
    "from Trip import Trip\n",
    "from Point import Point\n",
    "from Trips import Trips\n",
    "import math\n",
    "import gurobipy as gb"
   ],
   "metadata": {
    "collapsed": false
   }
  },
  {
   "cell_type": "code",
   "execution_count": null,
   "outputs": [],
   "source": [
    "trip1=Trip([],[],2)\n",
    "trip1.J.append(Point(1,1))\n",
    "trip1.J.append(Point(2,2))\n",
    "trip1.pi.append(Point(3,3))\n",
    "trip1.pi.append(Point(4,4))\n",
    "\n",
    "trip2=Trip([],[],2)\n",
    "trip2.J.append(Point(5,5))\n",
    "trip2.J.append(Point(6,6))\n",
    "trip2.pi.append(Point(7,7))\n",
    "trip2.pi.append(Point(8,8))\n",
    "\n",
    "D=[]\n",
    "D.append(Point(10,10))\n",
    "D.append(Point(20,20))\n",
    "\n",
    "\n",
    "print(\"trip1\")\n",
    "print(trip1)\n",
    "print(\"trip2\")\n",
    "print(trip2)\n",
    "\n",
    "n_actions=np.random.randint(0,5)\n",
    "\n",
    "match n_actions:\n",
    "    case 0:\n",
    "        print(\"Swap two relocation moves between two taxi trips\")\n",
    "        # Swap two relocation moves between two taxi trips\n",
    "        Trips.swap_random_realocation_moves(trip1,trip2)\n",
    "        print(\"trip1\")\n",
    "        print(trip1)\n",
    "        print(\"trip2\")\n",
    "        print(trip2)\n",
    "\n",
    "    case 1:\n",
    "        print(\"Move a relocation move to another taxi trip\")\n",
    "        # Move a relocation move to another taxi trip\n",
    "        Trips.move_random_realocation_moves(trip1,trip2)\n",
    "        print(\"trip1\")\n",
    "        print(trip1)\n",
    "        print(\"trip2\")\n",
    "        print(trip2)\n",
    "\n",
    "    case 2:\n",
    "        print(\"Remove a drop-off point from a taxi trip\")\n",
    "        # Remove a drop-off point from a taxi trip\n",
    "        Trips.remove_random_dropoff(trip1)\n",
    "        print(\"trip\")\n",
    "        print(trip1)\n",
    "\n",
    "    case 3:\n",
    "        print(\"Swap two drop-off points between two taxi trips\")\n",
    "        # Swap two drop-off points between two taxi trips\n",
    "        Trips.swap_random_dropoff(trip1,trip2)\n",
    "        print(\"trip1\")\n",
    "        print(trip1)\n",
    "        print(\"trip2\")\n",
    "        print(trip2)\n",
    "\n",
    "    case 4:\n",
    "        print(\"Add a drop-off point to a taxi trip\")\n",
    "        # Add a drop-off point to a taxi trip\n",
    "        pi=np.random.choice(D, 1)[0]\n",
    "        print(\"pi\")\n",
    "        print(pi)\n",
    "        Trips.add_drop_off(trip1,pi)\n",
    "        print(\"trip\")\n",
    "        print(trip1)\n"
   ],
   "metadata": {
    "collapsed": false
   }
  },
  {
   "cell_type": "markdown",
   "source": [
    "# SA"
   ],
   "metadata": {
    "collapsed": false
   }
  },
  {
   "cell_type": "code",
   "execution_count": null,
   "outputs": [],
   "source": [
    "n=10\n",
    "m=1\n",
    "\n",
    "J=[]\n",
    "J.append(Point(1,1))\n",
    "J.append(Point(2,2))\n",
    "J.append(Point(3,3))\n",
    "J.append(Point(4,4))\n",
    "J.append(Point(5,5))\n",
    "J.append(Point(6,6))\n",
    "J.append(Point(7,7))\n",
    "J.append(Point(8,8))\n",
    "\n",
    "D=[]\n",
    "D.append(Point(11,11))\n",
    "D.append(Point(21,21))\n",
    "D.append(Point(31,31))\n",
    "D.append(Point(41,41))\n",
    "D.append(Point(51,51))\n",
    "D.append(Point(61,61))\n",
    "D.append(Point(71,71))\n",
    "D.append(Point(81,81))\n",
    "\n",
    "\n",
    "\n",
    "n_trips=int(np.ceil(n/(np.ceil((m+1)/2))))\n",
    "print(n_trips)\n",
    "trips=[]\n",
    "for i in range(n_trips):\n",
    "    k=np.random.randint(1,m+1) # number of drop-off points\n",
    "    print(f'k={k}')\n",
    "    pi=np.random.choice(D, k,replace=False) #These drop-off points are randomly chosen\n",
    "\n",
    "    # the relocation moves are randomly spread between the different trips.\n",
    "\n",
    "    n_realocation_moves=int(len(J)/n_trips) # TODO we can improve using the normal distribution to select the right dimension\n",
    "\n",
    "    J_prime=np.random.choice(J, n_realocation_moves,replace=False)\n",
    "    if i==n_trips-1:\n",
    "        J_prime=J.copy()\n",
    "    for j in J_prime:\n",
    "        J.remove(j)\n",
    "    trip=Trip(J_prime,pi,k)\n",
    "    trips.append(trip)\n"
   ],
   "metadata": {
    "collapsed": false
   }
  },
  {
   "cell_type": "code",
   "execution_count": null,
   "outputs": [],
   "source": [
    "print(trips)"
   ],
   "metadata": {
    "collapsed": false
   }
  },
  {
   "cell_type": "code",
   "execution_count": null,
   "outputs": [],
   "source": [
    "print(trips[1])"
   ],
   "metadata": {
    "collapsed": false
   }
  },
  {
   "cell_type": "code",
   "execution_count": null,
   "outputs": [],
   "source": [
    "print(trips[9])\n"
   ],
   "metadata": {
    "collapsed": false
   }
  },
  {
   "cell_type": "code",
   "execution_count": null,
   "outputs": [],
   "source": [
    "new_trips=trips.copy()"
   ],
   "metadata": {
    "collapsed": false
   }
  },
  {
   "cell_type": "code",
   "execution_count": null,
   "outputs": [],
   "source": [
    "print(new_trips)"
   ],
   "metadata": {
    "collapsed": false
   }
  },
  {
   "cell_type": "code",
   "execution_count": null,
   "outputs": [],
   "source": [
    "del new_trips[0]"
   ],
   "metadata": {
    "collapsed": false
   }
  },
  {
   "cell_type": "code",
   "execution_count": null,
   "outputs": [],
   "source": [
    "print(trips)"
   ],
   "metadata": {
    "collapsed": false
   }
  },
  {
   "cell_type": "code",
   "execution_count": null,
   "outputs": [],
   "source": [
    "print(new_trips)"
   ],
   "metadata": {
    "collapsed": false
   }
  },
  {
   "cell_type": "code",
   "execution_count": null,
   "outputs": [],
   "source": [
    "selected_indexes_trips=np.random.choice(range(len(new_trips)), 2,replace=False)\n",
    "print(selected_indexes_trips)\n",
    "trip1=new_trips[selected_indexes_trips[0]].copy()\n",
    "trip2=new_trips[selected_indexes_trips[1]].copy()\n",
    "f=[trip1,trip2]\n",
    "\n",
    "\n",
    "print(f)\n",
    "print(trip1)\n",
    "print(trip2)\n",
    "\n",
    "new_trips[selected_indexes_trips[0]]=trip1\n",
    "new_trips[selected_indexes_trips[1]]=trip2"
   ],
   "metadata": {
    "collapsed": false
   }
  },
  {
   "cell_type": "markdown",
   "source": [
    "# exponential distribution\n"
   ],
   "metadata": {
    "collapsed": false
   }
  },
  {
   "cell_type": "code",
   "execution_count": null,
   "outputs": [],
   "source": [
    "z_new_trips=10\n",
    "z_trips=5\n",
    "T=50\n",
    "exp_lambda= (z_new_trips-z_trips)/T\n",
    "print(1/exp_lambda)\n",
    "\n",
    "exponential_sample=np.random.exponential(1/exp_lambda) # TODO sistemare calcolo probabilità\n",
    "print(exponential_sample)\n",
    "trips=new_trips if exponential_sample<1/exp_lambda else trips # sc=sn if probability else sc"
   ],
   "metadata": {
    "collapsed": false
   }
  },
  {
   "cell_type": "code",
   "execution_count": null,
   "outputs": [],
   "source": [
    "# Using exponential() method\n",
    "gfg = np.random.exponential(1/exp_lambda, 10000)\n",
    "\n",
    "count, bins, ignored = plt.hist(gfg, 14, density = True)\n",
    "plt.show()\n"
   ],
   "metadata": {
    "collapsed": false
   }
  },
  {
   "cell_type": "markdown",
   "source": [
    "# Test copy"
   ],
   "metadata": {
    "collapsed": false
   }
  },
  {
   "cell_type": "code",
   "execution_count": 2,
   "outputs": [],
   "source": [
    "trip1=Trip([],[],2)\n",
    "trip1.J.append(Point(1,1))\n",
    "trip1.J.append(Point(2,2))\n",
    "trip1.pi.append(Point(3,3))\n",
    "trip1.pi.append(Point(4,4))\n"
   ],
   "metadata": {
    "collapsed": false
   }
  },
  {
   "cell_type": "code",
   "execution_count": 3,
   "outputs": [],
   "source": [
    "trip2=trip1.copy()\n"
   ],
   "metadata": {
    "collapsed": false
   }
  },
  {
   "cell_type": "code",
   "execution_count": 8,
   "outputs": [
    {
     "data": {
      "text/plain": "[<Point.Point at 0x1146657e0>, <Point.Point at 0x1146662c0>]"
     },
     "execution_count": 8,
     "metadata": {},
     "output_type": "execute_result"
    }
   ],
   "source": [
    "trip1.J\n"
   ],
   "metadata": {
    "collapsed": false
   }
  },
  {
   "cell_type": "code",
   "execution_count": 9,
   "outputs": [
    {
     "data": {
      "text/plain": "[<Point.Point at 0x114667280>, <Point.Point at 0x114664dc0>]"
     },
     "execution_count": 9,
     "metadata": {},
     "output_type": "execute_result"
    }
   ],
   "source": [
    "trip2.J\n"
   ],
   "metadata": {
    "collapsed": false
   }
  },
  {
   "cell_type": "code",
   "execution_count": null,
   "outputs": [],
   "source": [],
   "metadata": {
    "collapsed": false
   }
  },
  {
   "cell_type": "code",
   "execution_count": 13,
   "outputs": [
    {
     "name": "stdout",
     "output_type": "stream",
     "text": [
      "0 (1,2)\n",
      "1 (2,3)\n"
     ]
    }
   ],
   "source": [
    "J=[Point(1,2),Point(2,3)]\n",
    "\n",
    "for idx, x in enumerate(J):\n",
    "    print(idx, x)\n"
   ],
   "metadata": {
    "collapsed": false
   }
  },
  {
   "cell_type": "code",
   "execution_count": 66,
   "outputs": [],
   "source": [
    "D=[]\n",
    "D.append(Point(1,1))\n",
    "D.append(Point(2,2))\n",
    "D.append(Point(3,3))\n",
    "D.append(Point(4,4))\n",
    "D.append(Point(5,5))\n",
    "D.append(Point(6,7))\n",
    "D.append(Point(7,7))\n",
    "D.append(Point(8,8))\n",
    "realocation_moves=D\n",
    "\n",
    "F=[]\n",
    "F.append(Point(1,2))\n",
    "F.append(Point(2,3))\n",
    "F.append(Point(3,5))\n",
    "F.append(Point(4,6))\n",
    "F.append(Point(2,8))\n",
    "F.append(Point(2,7))\n",
    "F.append(Point(1,7))\n",
    "F.append(Point(5,8))\n",
    "drop_off_points=F\n",
    "\n",
    "trips=[]\n",
    "trips.append(Trip([Point(1,2),Point(3,4)],[Point(1,2),Point(3,4),Point(5,6)],3))\n",
    "trips.append(Trip([Point(6,4)],[Point(5,6),Point(6,4),Point(3,6)],3))\n",
    "\n",
    "trips.append(Trip([Point(3,2)],[Point(3,2),Point(5,4),Point(5,7)],3))"
   ],
   "metadata": {
    "collapsed": false
   }
  },
  {
   "cell_type": "code",
   "execution_count": 72,
   "outputs": [
    {
     "data": {
      "text/plain": "<Figure size 1000x600 with 1 Axes>",
      "image/png": "[encoded data removed]"
     },
     "metadata": {
      "needs_background": "light"
     },
     "output_type": "display_data"
    }
   ],
   "source": [
    "import matplotlib.pyplot as plt\n",
    "import numpy as np\n",
    "\n",
    "\n"
   ],
   "metadata": {
    "collapsed": false
   }
  },
  {
   "cell_type": "code",
   "execution_count": null,
   "outputs": [],
   "source": [
    "def plot_points(drop_off_points, realocation_moves,size=(10,6)):\n",
    "    plt.style.use('_mpl-gallery')\n",
    "    realocation_moves_x=[]\n",
    "    realocation_moves_y=[]\n",
    "    for point in realocation_moves:\n",
    "        realocation_moves_x.append(point.u)\n",
    "        realocation_moves_y.append(point.v)\n",
    "\n",
    "    drop_off_points_x=[]\n",
    "    drop_off_points_y=[]\n",
    "    for drop_off in drop_off_points:\n",
    "        drop_off_points_x.append(drop_off.u)\n",
    "        drop_off_points_y.append(drop_off.v)\n",
    "\n",
    "    # plot\n",
    "    fig, ax = plt.subplots(figsize=(10,6),dpi=100)\n",
    "    ax.scatter(realocation_moves_x, realocation_moves_y, c=\"r\",label='Realocation moves')\n",
    "    ax.scatter(drop_off_points_x, drop_off_points_y, c=\"b\",label='Drop off points')\n",
    "    # plot trips\n",
    "    for idx,trip in enumerate(trips):\n",
    "        colors = np.random.uniform(15, 80, len(x))\n",
    "        trip_x=[]\n",
    "        trip_y=[]\n",
    "        for drop_off in trip.pi:\n",
    "            trip_x.append(drop_off.u)\n",
    "            trip_y.append(drop_off.v)\n",
    "        ax.plot(trip_x,trip_y,'-',label=f'trip {idx}')\n",
    "        color=ax.get_lines()[idx].get_color()\n",
    "        for realocation_move in trip.J:\n",
    "            ax.scatter(x=realocation_move.u, y=realocation_move.v,c=color)\n",
    "\n",
    "\n",
    "    ax.set(xlim=(0, 10), xticks=np.arange(1, 10),\n",
    "           ylim=(0, 10), yticks=np.arange(1, 10))\n",
    "    ax.legend()\n",
    "    plt.show()\n"
   ],
   "metadata": {
    "collapsed": false
   }
  }
 ],
 "metadata": {
  "kernelspec": {
   "display_name": "Python 3",
   "language": "python",
   "name": "python3"
  },
  "language_info": {
   "codemirror_mode": {
    "name": "ipython",
    "version": 2
   },
   "file_extension": ".py",
   "mimetype": "text/x-python",
   "name": "python",
   "nbconvert_exporter": "python",
   "pygments_lexer": "ipython2",
   "version": "2.7.6"
  }
 },
 "nbformat": 4,
 "nbformat_minor": 0
}
