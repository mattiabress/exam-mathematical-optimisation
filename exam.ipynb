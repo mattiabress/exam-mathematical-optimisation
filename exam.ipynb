{
 "cells": [
  {
   "cell_type": "code",
   "execution_count": 1,
   "id": "c014accb",
   "metadata": {},
   "outputs": [],
   "source": [
    "import numpy as np\n",
    "from Solver import Solver"
   ]
  },
  {
   "cell_type": "code",
   "execution_count": 2,
   "outputs": [
    {
     "name": "stdout",
     "output_type": "stream",
     "text": [
      "solved MILP using CG algorithm\n"
     ]
    }
   ],
   "source": [
    "Solver.solveUsingCG()\n"
   ],
   "metadata": {
    "collapsed": false
   }
  },
  {
   "cell_type": "code",
   "execution_count": 3,
   "outputs": [
    {
     "name": "stdout",
     "output_type": "stream",
     "text": [
      "1\n",
      "2\n",
      "solved using MILP\n"
     ]
    }
   ],
   "source": [
    "Solver.solveMILP(1,2)"
   ],
   "metadata": {
    "collapsed": false
   }
  },
  {
   "cell_type": "code",
   "execution_count": 3,
   "outputs": [],
   "source": [
    "x=np.array([[7,3,8],[7,3,8]])\n"
   ],
   "metadata": {
    "collapsed": false
   }
  },
  {
   "cell_type": "code",
   "execution_count": 4,
   "outputs": [
    {
     "name": "stdout",
     "output_type": "stream",
     "text": [
      "3\n",
      "[[7 3 8]\n",
      " [7 3 8]]\n",
      "solved using MILP\n"
     ]
    }
   ],
   "source": [],
   "metadata": {
    "collapsed": false
   }
  },
  {
   "cell_type": "code",
   "execution_count": 2,
   "outputs": [],
   "source": [
    "tasks_table_6=np.array([\n",
    "    [7,4,8,6,9,2,1,5,3],\n",
    "    [0.96,1.07,0.8,1.43,0.95,0.98,0.77,1.08,1.6],\n",
    "    [5,3,5,3,2,4,3,5,4],\n",
    "    [6,10,12,5,13,5,5,8,6],\n",
    "    [9,15,11,18,20,3,8,1,6],\n",
    "    [40,32,39,18,31,24,19,32,9],\n",
    "    [43,26,22,31,33,16,43,38,22],\n",
    "    [79,182,38,124,62,173,80,83,168],\n",
    "    [0,0,0,0,0,0,0,0,12],\n",
    "    [195,195,190,195,195,195,195,195,195]\n",
    "    ]\n",
    ")\n"
   ],
   "metadata": {
    "collapsed": false
   }
  },
  {
   "cell_type": "code",
   "execution_count": 5,
   "outputs": [],
   "source": [
    "parameters=np.array([9,194,5.6,3.6,0.9,75/100])\n"
   ],
   "metadata": {
    "collapsed": false
   }
  },
  {
   "cell_type": "code",
   "execution_count": 6,
   "outputs": [
    {
     "name": "stdout",
     "output_type": "stream",
     "text": [
      "9\n",
      "[[  7.     4.     8.     6.     9.     2.     1.     5.     3.  ]\n",
      " [  0.96   1.07   0.8    1.43   0.95   0.98   0.77   1.08   1.6 ]\n",
      " [  5.     3.     5.     3.     2.     4.     3.     5.     4.  ]\n",
      " [  6.    10.    12.     5.    13.     5.     5.     8.     6.  ]\n",
      " [  9.    15.    11.    18.    20.     3.     8.     1.     6.  ]\n",
      " [ 40.    32.    39.    18.    31.    24.    19.    32.     9.  ]\n",
      " [ 43.    26.    22.    31.    33.    16.    43.    38.    22.  ]\n",
      " [ 79.   182.    38.   124.    62.   173.    80.    83.   168.  ]\n",
      " [  0.     0.     0.     0.     0.     0.     0.     0.    12.  ]\n",
      " [195.   195.   190.   195.   195.   195.   195.   195.   195.  ]]\n",
      "solved using MILP\n"
     ]
    }
   ],
   "source": [
    "Solver.solveMILP(parameters, tasks_table_6)\n"
   ],
   "metadata": {
    "collapsed": false
   }
  },
  {
   "cell_type": "code",
   "execution_count": 12,
   "outputs": [],
   "source": [
    "q=tasks_table_6[1]\n"
   ],
   "metadata": {
    "collapsed": false
   }
  },
  {
   "cell_type": "code",
   "execution_count": 13,
   "outputs": [
    {
     "data": {
      "text/plain": "array([0.96, 1.07, 0.8 , 1.43, 0.95, 0.98, 0.77, 1.08, 1.6 ])"
     },
     "execution_count": 13,
     "metadata": {},
     "output_type": "execute_result"
    }
   ],
   "source": [
    "q\n"
   ],
   "metadata": {
    "collapsed": false
   }
  },
  {
   "cell_type": "code",
   "execution_count": null,
   "outputs": [],
   "source": [],
   "metadata": {
    "collapsed": false
   }
  }
 ],
 "metadata": {
  "kernelspec": {
   "display_name": "Python 3 (ipykernel)",
   "language": "python",
   "name": "python3"
  },
  "language_info": {
   "codemirror_mode": {
    "name": "ipython",
    "version": 3
   },
   "file_extension": ".py",
   "mimetype": "text/x-python",
   "name": "python",
   "nbconvert_exporter": "python",
   "pygments_lexer": "ipython3",
   "version": "3.10.0"
  }
 },
 "nbformat": 4,
 "nbformat_minor": 5
}
