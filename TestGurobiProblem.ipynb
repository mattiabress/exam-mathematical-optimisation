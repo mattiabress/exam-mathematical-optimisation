{
 "cells": [
  {
   "cell_type": "code",
   "execution_count": 1,
   "metadata": {
    "collapsed": true
   },
   "outputs": [],
   "source": [
    "import copy\n",
    "import numpy as np\n",
    "from Trip import Trip\n",
    "from Point import Point\n",
    "from Trips import Trips\n",
    "import math\n",
    "import matplotlib.pyplot as plt\n",
    "import gurobipy as gb\n",
    "from Simulation import Simulation\n",
    "from Solver import Solver\n",
    "import pickle"
   ]
  },
  {
   "cell_type": "code",
   "execution_count": 2,
   "outputs": [],
   "source": [
    "n,m,ks,kr,kn,T_start,c=Simulation.get_simulation_number(0)\n"
   ],
   "metadata": {
    "collapsed": false
   }
  },
  {
   "cell_type": "code",
   "execution_count": 3,
   "outputs": [],
   "source": [
    "# Getting back the objects:\n",
    "with open('objs.pkl','rb') as f:  # Python 3: open(..., 'rb')\n",
    "    J, D, trips,new_trips,trips_localsearch,trips_problem = pickle.load(f)"
   ],
   "metadata": {
    "collapsed": false
   }
  },
  {
   "cell_type": "code",
   "execution_count": 4,
   "outputs": [
    {
     "name": "stdout",
     "output_type": "stream",
     "text": [
      "Set parameter Username\n",
      "Academic license - for non-commercial use only - expires 2023-10-29\n",
      "Set parameter TimeLimit to value 1\n",
      "Gurobi Optimizer version 9.5.1 build v9.5.1rc2 (mac64[x86])\n",
      "Thread count: 4 physical cores, 8 logical processors, using up to 8 threads\n",
      "Optimize a model with 2827 rows, 312 columns and 12122 nonzeros\n",
      "Model fingerprint: 0x1be3aae2\n",
      "Variable types: 42 continuous, 270 integer (270 binary)\n",
      "Coefficient statistics:\n",
      "  Matrix range     [1e+00, 1e+02]\n",
      "  Objective range  [1e+00, 1e+00]\n",
      "  Bounds range     [1e+00, 1e+00]\n",
      "  RHS range        [1e+00, 2e+02]\n",
      "Presolve removed 5 rows and 5 columns\n",
      "Presolve time: 0.02s\n",
      "Presolved: 2822 rows, 307 columns, 12112 nonzeros\n",
      "Variable types: 42 continuous, 265 integer (265 binary)\n",
      "Found heuristic solution: objective 250.1243770\n",
      "Found heuristic solution: objective 247.8639592\n",
      "\n",
      "Root relaxation: objective 2.384865e+01, 61 iterations, 0.01 seconds (0.00 work units)\n",
      "\n",
      "    Nodes    |    Current Node    |     Objective Bounds      |     Work\n",
      " Expl Unexpl |  Obj  Depth IntInf | Incumbent    BestBd   Gap | It/Node Time\n",
      "\n",
      "     0     0   23.84865    0   62  247.86396   23.84865  90.4%     -    0s\n",
      "H    0     0                     165.0768597   23.84865  85.6%     -    0s\n",
      "H    0     0                     155.9066386   23.84865  84.7%     -    0s\n",
      "     0     0   23.84865    0   38  155.90664   23.84865  84.7%     -    0s\n",
      "     0     0   23.84865    0   18  155.90664   23.84865  84.7%     -    0s\n",
      "H    0     0                     107.4534995   23.84865  77.8%     -    0s\n",
      "H    0     0                      87.3512580   23.84865  72.7%     -    0s\n",
      "     0     0   23.84865    0   14   87.35126   23.84865  72.7%     -    0s\n",
      "     0     0   23.84865    0   17   87.35126   23.84865  72.7%     -    0s\n",
      "     0     0   23.84865    0   13   87.35126   23.84865  72.7%     -    0s\n",
      "     0     0   23.84865    0   15   87.35126   23.84865  72.7%     -    0s\n",
      "     0     0   23.84865    0   13   87.35126   23.84865  72.7%     -    0s\n",
      "     0     0   23.84865    0   13   87.35126   23.84865  72.7%     -    0s\n",
      "     0     2   23.84865    0   13   87.35126   23.84865  72.7%     -    0s\n",
      "H  140   110                      87.3288116   23.84865  72.7%  16.7    0s\n",
      "H  290   248                      87.0298912   23.84865  72.6%  13.2    0s\n",
      "H  359   280                      86.3632245   23.84865  72.4%  12.8    0s\n",
      "H  435   298                      80.7955635   23.84865  70.5%  12.2    0s\n",
      "H  481   295                      79.9880096   23.84865  70.2%  11.8    0s\n",
      "H  506   305                      79.1546763   23.84865  69.9%  11.7    0s\n",
      "\n",
      "Cutting planes:\n",
      "  Gomory: 1\n",
      "  Implied bound: 12\n",
      "  MIR: 138\n",
      "  Zero half: 10\n",
      "  RLT: 17\n",
      "  Relax-and-lift: 59\n",
      "\n",
      "Explored 627 nodes (9389 simplex iterations) in 1.01 seconds (0.72 work units)\n",
      "Thread count was 8 (of 8 available processors)\n",
      "\n",
      "Solution count 10: 79.1547 79.988 80.7956 ... 165.077\n",
      "\n",
      "Time limit reached\n",
      "Best objective 7.915467625899e+01, best bound 2.384864628953e+01, gap 69.8708%\n",
      "\n",
      "Solution\n",
      "t[0,6]=31.583333333333098  drop_off=(107.5,70.0)\n",
      "t[0,7]=34.70638411911588  drop_off=(99,56.5)\n",
      "t[0,8]=14.333333333333334  drop_off=(2.5,83.5)\n",
      "t[0,9]=31.083333333333126  drop_off=(103,83.5)\n",
      "t[0,11]=36.289717452449196  drop_off=(103,97.0)\n",
      "t[0,13]=36.789717452449196  drop_off=(71,70.0)\n",
      "t[0,14]=33.539717452449196  drop_off=(107.5,70.0)\n",
      "t[0,15]=25.749999999999833  drop_off=(71,83.5)\n",
      "t[0,16]=58.827140700381946  drop_off=(2.5,97.0)\n",
      "t[1,1]=5.166666666666622  drop_off=(15,16.0)\n",
      "\n",
      " S[0,8,0]=1 dropoff=(2.5,83.5)\n",
      " S[0,15,1]=1 dropoff=(71,83.5)\n",
      " S[0,9,2]=1 dropoff=(103,83.5)\n",
      " S[0,6,3]=1 dropoff=(107.5,70.0)\n",
      " S[1,1,0]=1 dropoff=(15,16.0)\n",
      "\n",
      "Y[0,1]=1  realocation move=(15,11.375), dropoff=(15,16.0)\n",
      "Y[1,6]=1  realocation move=(99,65.375), dropoff=(107.5,70.0)\n",
      "Y[2,9]=1  realocation move=(103,88.125), dropoff=(103,83.5)\n",
      "Y[3,15]=1  realocation move=(71,74.625), dropoff=(71,83.5)\n",
      "Y[4,8]=1  realocation move=(35,92.375), dropoff=(2.5,83.5)\n",
      "\n",
      "C[0]=66.26483812949617\n",
      "C[1]=12.889838129496148\n"
     ]
    }
   ],
   "source": [
    "trips_problem=Solver.trptr_problem(n,m,J,D,Point(0,0),Point(0,0),300)\n"
   ],
   "metadata": {
    "collapsed": false
   }
  },
  {
   "cell_type": "code",
   "execution_count": 10,
   "outputs": [
    {
     "data": {
      "text/plain": "<Figure size 550x700 with 1 Axes>",
      "image/png": "[encoded data removed]"
     },
     "metadata": {
      "needs_background": "light"
     },
     "output_type": "display_data"
    }
   ],
   "source": [
    "Simulation.plot_map(J,D,trips_problem,figsize=(5.5,7))\n"
   ],
   "metadata": {
    "collapsed": false
   }
  },
  {
   "cell_type": "code",
   "execution_count": 5,
   "outputs": [
    {
     "data": {
      "text/plain": "[0.0,\n 14.333333333333334,\n 25.75,\n 31.083333333333332,\n 31.583333333333332,\n 58.666666666666664]"
     },
     "execution_count": 5,
     "metadata": {},
     "output_type": "execute_result"
    }
   ],
   "source": [
    "trips_problem[0].get_array_pure_taxi_trip_drop_off()\n"
   ],
   "metadata": {
    "collapsed": false
   }
  },
  {
   "cell_type": "code",
   "execution_count": 6,
   "outputs": [
    {
     "data": {
      "text/plain": "66.2648381294964"
     },
     "execution_count": 6,
     "metadata": {},
     "output_type": "execute_result"
    }
   ],
   "source": [
    "trips_problem[0].trip_duration()\n"
   ],
   "metadata": {
    "collapsed": false
   }
  },
  {
   "cell_type": "code",
   "execution_count": 7,
   "outputs": [
    {
     "data": {
      "text/plain": "58.666666666666664"
     },
     "execution_count": 7,
     "metadata": {},
     "output_type": "execute_result"
    }
   ],
   "source": [
    "trips_problem[0].get_pure_taxi_trip()"
   ],
   "metadata": {
    "collapsed": false
   }
  },
  {
   "cell_type": "code",
   "execution_count": 12,
   "outputs": [],
   "source": [],
   "metadata": {
    "collapsed": false
   }
  },
  {
   "cell_type": "code",
   "execution_count": 13,
   "outputs": [
    {
     "data": {
      "text/plain": "10.455272136651079"
     },
     "execution_count": 13,
     "metadata": {},
     "output_type": "execute_result"
    }
   ],
   "source": [
    "Trip.get_travel_time_relocation_move(Point(10,10),Point(3,3),Point(0,0))\n"
   ],
   "metadata": {
    "collapsed": false
   }
  },
  {
   "cell_type": "code",
   "execution_count": 14,
   "outputs": [
    {
     "data": {
      "text/plain": "25"
     },
     "execution_count": 14,
     "metadata": {},
     "output_type": "execute_result"
    }
   ],
   "source": [
    "5**2\n"
   ],
   "metadata": {
    "collapsed": false
   }
  },
  {
   "cell_type": "code",
   "execution_count": 21,
   "outputs": [
    {
     "data": {
      "text/plain": "78.1546762589928"
     },
     "execution_count": 21,
     "metadata": {},
     "output_type": "execute_result"
    }
   ],
   "source": [
    "Trips.get_total_duration(trips_problem)\n"
   ],
   "metadata": {
    "collapsed": false
   }
  },
  {
   "cell_type": "code",
   "execution_count": null,
   "outputs": [],
   "source": [],
   "metadata": {
    "collapsed": false
   }
  }
 ],
 "metadata": {
  "kernelspec": {
   "display_name": "Python 3",
   "language": "python",
   "name": "python3"
  },
  "language_info": {
   "codemirror_mode": {
    "name": "ipython",
    "version": 2
   },
   "file_extension": ".py",
   "mimetype": "text/x-python",
   "name": "python",
   "nbconvert_exporter": "python",
   "pygments_lexer": "ipython2",
   "version": "2.7.6"
  }
 },
 "nbformat": 4,
 "nbformat_minor": 0
}
