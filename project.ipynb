{
 "cells": [
  {
   "cell_type": "code",
   "execution_count": 44,
   "id": "65c574a6",
   "metadata": {},
   "outputs": [],
   "source": [
    "import copy\n",
    "\n",
    "import numpy as np\n",
    "from Trip import Trip\n",
    "from Point import Point\n",
    "from Trips import Trips\n",
    "import math\n",
    "import matplotlib.pyplot as plt\n",
    "import gurobipy as gb\n",
    "from Simulation import Simulation"
   ]
  },
  {
   "cell_type": "markdown",
   "source": [
    "# CC"
   ],
   "metadata": {
    "collapsed": false
   }
  },
  {
   "cell_type": "code",
   "execution_count": 42,
   "id": "608ad315",
   "metadata": {},
   "outputs": [],
   "source": [
    "#  customized clustering procedure\n",
    "def cc_procedure(J,R,D):\n",
    "    # n is number of realocation moves J={1, ..., n}\n",
    "    # m is number of realocators R={1, ..., m}\n",
    "    n=len(J)\n",
    "    m=len(R)\n",
    "\n",
    "    #initialize a new Trip\n",
    "    new_trip=Trip([],[],0)\n",
    "\n",
    "    p=np.floor(n/m)/(np.floor(n/m)+1)\n",
    "    n_hat=0\n",
    "    # controllare\n",
    "    if np.random.uniform(0,1)<=p:\n",
    "        n_hat=np.random.randint(np.ceil((m+1)/2),m)\n",
    "    else:\n",
    "        n_hat=np.random.randint(1,np.ceil((m+1)/2)) #TODO sistemare che metta il secondo incluso\n",
    "\n",
    "    j=J[np.random.randint(0,len(J))] # len(J) = |J|\n",
    "    # update\n",
    "    new_trip.J.append(j) #J'={j} # TODO sistemare si può mettere un metodo dentro Trip\n",
    "    J.remove(j) # J=J\\{j}   P= (u_j^c,v_j^c)\n",
    "    \n",
    "    while len(new_trip.J)<n_hat and len(J)!=0:\n",
    "        p=[]\n",
    "        for j in J:\n",
    "            p_j=0.0\n",
    "            for q in J:\n",
    "                distance_j=new_trip.distance_from_cluster_center(j)\n",
    "                distance_q=new_trip.distance_from_cluster_center(q)\n",
    "                p_j+=distance_j/distance_q if distance_q!=0 else 0\n",
    "            p.append(p_j**-1 if p_j!=0 else 0.0)\n",
    "        j=np.random.choice(J, 1, p)[0] # sample from J\n",
    "        new_trip.J.append(j) #J'={j} # TODO sistemare si può mettere un metodo dentro Trip\n",
    "        J.remove(j) # J=J\\{j}\n",
    "\n",
    "    l=1\n",
    "    pi=[]\n",
    "\n",
    "    # line 7\n",
    "    probability=[]\n",
    "    for selected_pi in D:\n",
    "        p_pi=0.0\n",
    "        for q in D:\n",
    "            distance_pi=new_trip.distance_from_cluster_center(selected_pi)\n",
    "            sum_distance_dropoff=new_trip.distance_from_cluster_center(q)\n",
    "            p_pi+=distance_pi/sum_distance_dropoff if sum_distance_dropoff!=0 else 0\n",
    "        probability.append(p_pi**-1 if p_pi!=0 else 0.0)\n",
    "\n",
    "    pi_l=np.random.choice(D, 1, probability)[0]\n",
    "    new_trip.pi.append(pi_l) # pi={pi_l} #TODO  sistemare con un metodo\n",
    "    D.remove(pi_l) # D=D\\{pi_l}\n",
    "\n",
    "    #calculate total duration C of taxi trip pi according to relocation J'\n",
    "    C=new_trip.duration()\n",
    "\n",
    "    while len(D)!=0:\n",
    "        #determine drop-off point q in D which decreases C most\n",
    "        if(q != None):\n",
    "            l=l+1\n",
    "            pi_l=q\n",
    "            D.remove(q)\n",
    "        else:\n",
    "            D=[]"
   ]
  },
  {
   "cell_type": "markdown",
   "source": [
    "# SA\n"
   ],
   "metadata": {
    "collapsed": false
   }
  },
  {
   "cell_type": "code",
   "execution_count": 39,
   "outputs": [],
   "source": [
    "# FIX IT\n",
    "# TODO error when n=10, m=1 because n_realocation_moves becomes 0 so all trips have 0 reallocation moves except the last one which has all reallocation moves\n",
    "def sa_approach(n,m,ks,kr,kn,T_start,c,J,D):\n",
    "    # ks -> number of restarts\n",
    "    # kr -> number of rehats\n",
    "    # T_start -> initial temperature\n",
    "    # c -> cooling parameter\n",
    "    # By varying these parameters and caching not only the best solution found so far, but also the temporary best solution, i.e., before reheat and restart\n",
    "    # we obtain a pool of taxi trips by splitting the cached solutions, i.e., taxi tour, into the single trips\n",
    "\n",
    "    for i in range(ks):\n",
    "        # generate random feasible solution\n",
    "        # set initial current state sc\n",
    "        n_trips=int(np.ceil(n/(np.ceil((m+1)/2))))\n",
    "        trips=[]\n",
    "        for i in range(n_trips):\n",
    "            k=np.random.randint(1,m+1) # number of drop-off points\n",
    "            pi=np.random.choice(D, k,replace=False) #These drop-off points are randomly chosen\n",
    "\n",
    "            # the relocation moves are randomly spread between the different trips.\n",
    "\n",
    "            n_realocation_moves=int(len(J)/n_trips) # TODO we can improve using the normal distribution to select the right dimension\n",
    "\n",
    "            J_prime=np.random.choice(J, n_realocation_moves,replace=False)\n",
    "            if i==n_trips-1:\n",
    "                J_prime=J.copy()\n",
    "            for j in J_prime:\n",
    "                J.remove(j)\n",
    "            trip=Trip(J_prime,pi,k)\n",
    "            trips.append(trip)\n",
    "            # Finally, for each trip and its assigned relocation moves, we execute each relocation from the closest drop-off point increasing the trip duration least.\n",
    "\n",
    "            # if I understood well, it means we have to take the closest drop off point to the relocation moves to select in the time duration\n",
    "\n",
    "        trips_star=copy.deepcopy(trips) # optimal solution\n",
    "\n",
    "        for j in range(kr):\n",
    "            T=T_start\n",
    "            not_improved=0\n",
    "            new_trips=copy.deepcopy(trips)\n",
    "            while not_improved<kn:\n",
    "                not_improved+=1\n",
    "                # Sn= neighbour of current state Sc\n",
    "\n",
    "                selected_indexes_trips=np.random.choice(range(len(new_trips)), 2,replace=False)\n",
    "                print(selected_indexes_trips)\n",
    "                trip1=new_trips[selected_indexes_trips[0]].copy()\n",
    "                trip2=new_trips[selected_indexes_trips[1]].copy()\n",
    "\n",
    "                # select an action\n",
    "                n_actions=np.random.randint(0,5)\n",
    "                match n_actions:\n",
    "                    case 0:\n",
    "                        # Swap two relocation moves between two taxi trips\n",
    "                        Trips.swap_random_realocation_moves(trip1,trip2)\n",
    "                    case 1:\n",
    "                        # Move a relocation move to another taxi trip\n",
    "                        Trips.move_random_realocation_moves(trip1,trip2)\n",
    "\n",
    "                    case 2:\n",
    "                        # Remove a drop-off point from a taxi trip\n",
    "                        Trips.remove_random_dropoff(trip1)\n",
    "\n",
    "                    case 3:\n",
    "                        # Swap two drop-off points between two taxi trips\n",
    "                        Trips.swap_random_dropoff(trip1,trip2)\n",
    "\n",
    "                    case 4:\n",
    "                        # Add a drop-off point to a taxi trip\n",
    "                        pi=np.random.choice(D, 1)[0]\n",
    "                        Trips.add_drop_off(trip1,pi)\n",
    "\n",
    "                new_trips[selected_indexes_trips[0]]=trip1\n",
    "                new_trips[selected_indexes_trips[1]]=trip2\n",
    "\n",
    "                # TODO sistemare sbagliato\n",
    "\n",
    "                z_trips=Trips.get_total_duration(trips)\n",
    "                z_new_trips=Trips.get_total_duration(new_trips)\n",
    "\n",
    "                # TODO sistemare sbagliato\n",
    "                if(z_new_trips<z_trips):\n",
    "                    # sc=sn update current\n",
    "                    trips=new_trips\n",
    "                    z_trips=z_new_trips\n",
    "                    not_improved=0\n",
    "                    z_trips_star=Trips.get_total_duration(trips_star)\n",
    "                    if(z_trips<z_trips_star):\n",
    "                        trips_star=trips\n",
    "                else:\n",
    "                    #with probability exp() assign sc=sn\n",
    "                    exp_lambda= (z_new_trips-z_trips)/T\n",
    "                    exponential_sample=np.random.exponential(1/exp_lambda) # TODO sistemare calcolo probabilità\n",
    "                    trips=new_trips if exponential_sample<1/exp_lambda else trips # sc=sn if probability else sc\n",
    "                T=T*c\n",
    "    return trips"
   ],
   "metadata": {
    "collapsed": false
   }
  },
  {
   "cell_type": "code",
   "execution_count": null,
   "outputs": [],
   "source": [],
   "metadata": {
    "collapsed": false
   }
  },
  {
   "cell_type": "markdown",
   "source": [
    "# SAM"
   ],
   "metadata": {
    "collapsed": false
   }
  },
  {
   "cell_type": "code",
   "execution_count": null,
   "outputs": [],
   "source": [
    "def sam_matheuristic(trips, J, D,n,m):\n",
    "    # I-> trips\n",
    "    I=range(len(trips))\n",
    "\n",
    "    # preparate the variables\n",
    "    C=[]\n",
    "    for i in I:\n",
    "        C.append(trips[i].get_pure_taxi_trip())\n",
    "\n",
    "    delta=np.zeros((len(trips),len(J)))\n",
    "\n",
    "    for i in I: # trips\n",
    "        trip_time_drop_off_array=trips[i].get_array_pure_taxi_trip_drop_off()\n",
    "        for j in J:\n",
    "            time_plus_realocation=copy.deepcopy(trip_time_drop_off_array)\n",
    "            for idx, pi_p in enumerate(trips[i].pi):\n",
    "                realocation_time=Trip.get_travel_time_relocation_move(j,pi_p)\n",
    "                time_plus_realocation[idx]+=realocation_time\n",
    "            delta[i,j]=max(0,min(time_plus_realocation)-C[i])\n",
    "\n",
    "    sam_mip = gb.Model()\n",
    "    sam_mip.modelSense = gb.GRB.MINIMIZE #declare mimization\n",
    "    X = sam_mip.addVars( [(i,j) for i in I for j in range(len(J))], vtype=gb.GRB.BINARY)\n",
    "    Y = sam_mip.addVars( [i for i in I], vtype=gb.GRB.BINARY)\n",
    "    b = sam_mip.addVars( [i for i in I], lb=0, vtype=gb.GRB.CONTINUOUS)\n",
    "\n",
    "    #Xi,j==1\n",
    "    for j in range(len(J)):\n",
    "        sam_mip.addConstr( gb.quicksum(X[i,j] for i in I) == 1 )\n",
    "    # X(i,j)<=Y(i)*m\n",
    "    for i in I:\n",
    "        sam_mip.addConstr( gb.quicksum(X[i,j] for j in range(len(J))) <= Y[i] * m)\n",
    "\n",
    "    for i in I:\n",
    "        for j in range(len(J)):\n",
    "            # b[i]>=X[i,j]*delta[i,j]\n",
    "            sam_mip.addConstr( b[i] >= X[i,j] * delta[i,j]) # delta(i,j)\n",
    "\n",
    "    sam_mip.setObjective(gb.quicksum( Y[i]*C[i]+b[i]  for i in I))\n",
    "    sam_mip.optimize()\n",
    "\n",
    "    print( \"\\n\", type(X), X, \"\\n\")\n",
    "    print(\"\\nSolution\")\n",
    "\n",
    "    for i in I:\n",
    "      for j in range(len(J)):\n",
    "        if X[i,j].x == 1:  #to access the variable value\n",
    "          print(\"Machine \", i, \" is assigned to task \", j)"
   ],
   "metadata": {
    "collapsed": false
   }
  },
  {
   "cell_type": "markdown",
   "source": [
    "# SM"
   ],
   "metadata": {
    "collapsed": false
   }
  },
  {
   "cell_type": "code",
   "execution_count": null,
   "outputs": [],
   "source": [
    "def sm_matheuristic(trips,J,D):\n",
    "    I=range(len(trips))\n",
    "    # to construct theta\n",
    "    # TODO Controllare\n",
    "    theta=np.zeros((len(trips),len(J)))\n",
    "    for i in I:\n",
    "        for j in range(len(J)):\n",
    "            theta[i,j]=1 if any(obj.u == j.u and obj.v==j.v for obj in trips[i].J) else 0\n",
    "\n",
    "    C=[]\n",
    "    for trip in trips:\n",
    "        time_pure_taxi_trip=trip.get_pure_taxi_trip()\n",
    "        trip_time_drop_off_array=trip.get_array_pure_taxi_trip_drop_off()\n",
    "        realocation_move_time=[]\n",
    "\n",
    "        for j in trip.J:\n",
    "            time_plus_realocation=copy.deepcopy(trip_time_drop_off_array)\n",
    "            for idx, pi_p in enumerate(trip.pi):\n",
    "                realocation_move_time=Trip.get_travel_time_relocation_move(j,pi_p)\n",
    "                time_plus_realocation[idx]+=realocation_move_time\n",
    "\n",
    "            realocation_move_time.append(min(time_plus_realocation))\n",
    "\n",
    "        time_result=max(time_pure_taxi_trip,max(realocation_move_time))\n",
    "        C.append(time_result)\n",
    "\n",
    "    sm_mip = gb.Model()\n",
    "    sm_mip.modelSense = gb.GRB.MINIMIZE #declare mimization\n",
    "    Y = sm_mip.addVars( [i for i in I], vtype=gb.GRB.BINARY)\n",
    "    for j in range(len(J)):\n",
    "        sm_mip.addConstr( gb.quicksum(Y[i]*theta[i,j] for i in I) >= 1 )\n",
    "\n",
    "    sm_mip.setObjective(gb.quicksum( Y[i]*C[i]  for i in I))\n",
    "    sm_mip.optimize()\n",
    "    print( \"\\n\", type(Y), Y, \"\\n\")\n",
    "    print(\"\\nSolution\")\n",
    "\n",
    "    for i in I:\n",
    "        print(f'Y[{i}]= {Y[i]}')"
   ],
   "metadata": {
    "collapsed": false
   }
  },
  {
   "cell_type": "markdown",
   "source": [
    "# Local search"
   ],
   "metadata": {
    "collapsed": false
   }
  },
  {
   "cell_type": "code",
   "execution_count": null,
   "outputs": [],
   "source": [
    "def local_search(trips,J,D,kn):\n",
    "    initial_solution=copy.deepcopy(trips)\n",
    "    not_improved=0\n",
    "    while not_improved<kn:\n",
    "        not_improved+=1\n",
    "        new_trips=copy.deepcopy(trips)\n",
    "\n",
    "        # select current neighborhood with equal probability\n",
    "        selected_indexes_trips=np.random.choice(range(len(trips)), 2,replace=False)\n",
    "        print(selected_indexes_trips)\n",
    "        trip1=new_trips[selected_indexes_trips[0]].copy()\n",
    "        trip2=new_trips[selected_indexes_trips[1]].copy()\n",
    "        # select current neighborhood with equal probability\n",
    "        # generate new solution sn from sc for the current neighborhood\n",
    "\n",
    "        # select an action\n",
    "        n_actions=np.random.randint(0,5)\n",
    "        match n_actions:\n",
    "            case 0:\n",
    "                # Swap two relocation moves between two taxi trips\n",
    "                Trips.swap_random_realocation_moves(trip1,trip2)\n",
    "            case 1:\n",
    "                # Move a relocation move to another taxi trip\n",
    "                Trips.move_random_realocation_moves(trip1,trip2)\n",
    "\n",
    "            case 2:\n",
    "                # Remove a drop-off point from a taxi trip\n",
    "                Trips.remove_random_dropoff(trip1)\n",
    "\n",
    "            case 3:\n",
    "                # Swap two drop-off points between two taxi trips\n",
    "                Trips.swap_random_dropoff(trip1,trip2)\n",
    "\n",
    "            case 4:\n",
    "                # Add a drop-off point to a taxi trip\n",
    "                pi=np.random.choice(D, 1)[0]\n",
    "                Trips.add_drop_off(trip1,pi)\n",
    "\n",
    "        new_trips[selected_indexes_trips[0]]=trip1\n",
    "        new_trips[selected_indexes_trips[1]]=trip2\n",
    "\n",
    "        z_trips=Trips.get_total_duration(initial_solution)\n",
    "        z_new_trips=Trips.get_total_duration(new_trips)\n",
    "\n",
    "        if(z_new_trips<z_trips):\n",
    "            # sc=sn update current\n",
    "            initial_solution=new_trips\n",
    "            not_improved=0\n",
    "    return initial_solution"
   ],
   "metadata": {
    "collapsed": false
   }
  },
  {
   "cell_type": "code",
   "execution_count": null,
   "outputs": [],
   "source": [],
   "metadata": {
    "collapsed": false
   }
  },
  {
   "cell_type": "code",
   "execution_count": 15,
   "outputs": [],
   "source": [
    "def trptr_problem(drop_off_points,n,m):\n",
    "    K=range(1,int(np.ceil(n/(np.ceil((m+1)/2))))+1)\n",
    "    R=range(1,m+1)\n",
    "    J= range(1,n+1)\n",
    "    D=range(len(drop_off_points))\n",
    "    #d=[]\n",
    "    #delta=[]\n",
    "    central_depot_s=0\n",
    "    central_depot_e=central_depot_s\n",
    "    M=1000\n",
    "    trptr_mip = gb.Model()\n",
    "    trptr_mip.modelSense = gb.GRB.MINIMIZE\n",
    "    # Variables\n",
    "    t = trptr_mip.addVars( [(k,i) for k in K for i in D],lb=0, vtype=gb.GRB.CONTINUOUS)\n",
    "    C = trptr_mip.addVars( [k for k in K],lb=0, vtype=gb.GRB.CONTINUOUS)\n",
    "    S = trptr_mip.addVars( [(k,i,p) for k in K for i in D for p in R], vtype=gb.GRB.BINARY)\n",
    "    Y = trptr_mip.addVars( [(j,i) for j in J for i in D], vtype=gb.GRB.BINARY)\n",
    "    X = trptr_mip.addVars( [(k,j) for k in K for j in J], vtype=gb.GRB.BINARY)\n",
    "\n",
    "    # Contraints\n",
    "    #X(k,j)=1\n",
    "    for j in J:\n",
    "        trptr_mip.addConstr( gb.quicksum(X[k,j] for k in K) == 1 )\n",
    "    # Y(j,i)=1\n",
    "    for j in J:\n",
    "        trptr_mip.addConstr( gb.quicksum(Y[j,i] for i in D) == 1 )\n",
    "\n",
    "    for k in K:\n",
    "        trptr_mip.addConstr( gb.quicksum(X[k,j] for j in J) <= m)\n",
    "\n",
    "    for k in K:\n",
    "        for j in J:\n",
    "            for i in D:\n",
    "                 trptr_mip.addConstr(X[k,j]+Y[j,i]<=1+ gb.quicksum(S[k,i,p] for p in R))\n",
    "\n",
    "    for k in K:\n",
    "        for p in R:\n",
    "            trptr_mip.addConstr(gb.quicksum(S[k,i,p] for i in D)<=1)\n",
    "\n",
    "    for k in K:\n",
    "        for i in D:\n",
    "            trptr_mip.addConstr(gb.quicksum(S[k,i,p] for p in R)<=1)\n",
    "\n",
    "    for k in K:\n",
    "        for p in [x for x in R if x != 1]:\n",
    "            trptr_mip.addConstr(gb.quicksum(S[k,i,p] for i in D)<=gb.quicksum(S[k,i,p-1] for i in D))\n",
    "\n",
    "    # t's constraints\n",
    "    for k in K:\n",
    "        for i in D:\n",
    "            #trptr_mip.addConstr(t[k,i]>=S[k,i,1]*delta[central_depot_s,i])\n",
    "            trptr_mip.addConstr(t[k,i]>=S[k,i,1]*Trip.get_travel_time_drop_off(central_depot_s,i))\n",
    "\n",
    "    for k in K:\n",
    "        for i1 in D:\n",
    "            for i2 in [x for x in D if x != i1]: # D\\{i1}\n",
    "                for p in [x for x in R if x != 1]:\n",
    "                    #trptr_mip.addConstr(t[k,i2]>=t[k,i1]-M*(2-S[k,i1,p-1]-S[k,i2,p])+delta[i1,i2])\n",
    "                    trptr_mip.addConstr(t[k,i2]>=t[k,i1]-M*(2-S[k,i1,p-1]-S[k,i2,p])+ Trip.get_travel_time_drop_off(i1,i2))\n",
    "\n",
    "    # C's constraints\n",
    "    for k in K:\n",
    "        for j in J:\n",
    "            for i in D:\n",
    "                #trptr_mip.addConstr(C[k]>=t[k,i]-M*(2-X[k,j]-Y[j,i])+d[j,i])\n",
    "                trptr_mip.addConstr(C[k]>=t[k,i]-M*(2-X[k,j]-Y[j,i])+Trip.get_travel_time_relocation_move(j,i))\n",
    "\n",
    "    for k in K:\n",
    "        for i in D:\n",
    "            #trptr_mip.addConstr(C[k]>=t[k,i]-M*(1-gb.quicksum(S[k,i,p] for p in R))+delta[i,central_depot_e])\n",
    "            trptr_mip.addConstr(C[k]>=t[k,i]-M*(1-gb.quicksum(S[k,i,p] for p in R))+ Trip.get_travel_time_drop_off(i,central_depot_e))\n",
    "\n",
    "    for k in [x for x in K if x != 1]:\n",
    "        trptr_mip.addConstr(C[k]<=C[k-1])\n",
    "\n",
    "    # Objective function\n",
    "    trptr_mip.setObjective(gb.quicksum(C[k]  for k in K))\n",
    "    # Solution\n",
    "    trptr_mip.optimize()\n",
    "    print( \"\\n\", type(X), X, \"\\n\")\n",
    "    print( \"\\n\", type(Y), Y, \"\\n\")\n",
    "    print( \"\\n\", type(S), S, \"\\n\")\n",
    "    print(\"\\nSolution\")\n",
    "\n"
   ],
   "metadata": {
    "collapsed": false
   }
  },
  {
   "cell_type": "code",
   "execution_count": null,
   "outputs": [],
   "source": [],
   "metadata": {
    "collapsed": false
   }
  },
  {
   "cell_type": "code",
   "execution_count": 29,
   "outputs": [],
   "source": [
    "# initialize map\n",
    "\n",
    "def initialize_map(n_realocation_moves):\n",
    "    J=[]\n",
    "    D=[]\n",
    "    for i in range(n_realocation_moves):\n",
    "        x_v=np.random.randint(0,20) # random between 0 and 19\n",
    "        v0=7.125\n",
    "        v=v0+int(x_v%2)*4.25+int(x_v/2)*5+(int(x_v/2)-1)*8.50\n",
    "        x_u=np.random.randint(0,25)\n",
    "        u0=7\n",
    "        u=u0+x_u*4\n",
    "\n",
    "        J.append(Point(u,v))\n",
    "\n",
    "        delta=4.625\n",
    "        delta_2=6.75\n",
    "\n",
    "        v_d=v-delta if int(x_v%2)==0 else v+delta\n",
    "        v_d_4=v+delta_2 if int(x_v%2)==0 else v-delta_2\n",
    "\n",
    "        D.append(Point(2.5,v_d))# D1 (2.5,v_d)\n",
    "        D.append(Point(u,v_d)) # D2 (u,v_d)\n",
    "        D.append(Point(107.5,v_d))\n",
    "        D.append(Point(u,v_d_4))\n",
    "    return (J,D)\n",
    "        \n",
    "\n"
   ],
   "metadata": {
    "collapsed": false
   }
  },
  {
   "cell_type": "code",
   "execution_count": 40,
   "outputs": [],
   "source": [
    "J,D=initialize_map(5)\n"
   ],
   "metadata": {
    "collapsed": false
   }
  },
  {
   "cell_type": "code",
   "execution_count": 41,
   "outputs": [],
   "source": [
    "def plot_points(drop_off_points, realocation_moves,trips,size=(10,6)):\n",
    "    plt.style.use('_mpl-gallery')\n",
    "    realocation_moves_x=[]\n",
    "    realocation_moves_y=[]\n",
    "    for point in realocation_moves:\n",
    "        realocation_moves_x.append(point.u)\n",
    "        realocation_moves_y.append(point.v)\n",
    "\n",
    "    drop_off_points_x=[]\n",
    "    drop_off_points_y=[]\n",
    "    for drop_off in drop_off_points:\n",
    "        drop_off_points_x.append(drop_off.u)\n",
    "        drop_off_points_y.append(drop_off.v)\n",
    "\n",
    "    # plot\n",
    "    fig, ax = plt.subplots(figsize=(10,6),dpi=100)\n",
    "    ax.scatter(realocation_moves_x, realocation_moves_y, c=\"r\",label='Realocation moves')\n",
    "    ax.scatter(drop_off_points_x, drop_off_points_y, c=\"b\",label='Drop off points')\n",
    "    # plot trips\n",
    "    for idx,trip in enumerate(trips):\n",
    "        trip_x=[]\n",
    "        trip_y=[]\n",
    "        for drop_off in trip.pi:\n",
    "            trip_x.append(drop_off.u)\n",
    "            trip_y.append(drop_off.v)\n",
    "        ax.plot(trip_x,trip_y,'-',label=f'trip {idx}')\n",
    "        color=ax.get_lines()[idx].get_color()\n",
    "        for realocation_move in trip.J:\n",
    "            ax.scatter(x=realocation_move.u, y=realocation_move.v,c=color)\n",
    "\n",
    "\n",
    "    ax.set(xlim=(0, 110),\n",
    "           ylim=(0, 140))\n",
    "    ax.legend()\n",
    "    plt.show()\n"
   ],
   "metadata": {
    "collapsed": false
   }
  },
  {
   "cell_type": "code",
   "execution_count": 42,
   "outputs": [
    {
     "data": {
      "text/plain": "<Figure size 1000x600 with 1 Axes>",
      "image/png": "[encoded data removed]"
     },
     "metadata": {
      "needs_background": "light"
     },
     "output_type": "display_data"
    }
   ],
   "source": [
    "plot_points(D,J,[])\n"
   ],
   "metadata": {
    "collapsed": false
   }
  },
  {
   "cell_type": "code",
   "execution_count": 43,
   "outputs": [
    {
     "name": "stdout",
     "output_type": "stream",
     "text": [
      "[1 0]\n"
     ]
    },
    {
     "ename": "AttributeError",
     "evalue": "'numpy.ndarray' object has no attribute 'append'",
     "output_type": "error",
     "traceback": [
      "\u001B[0;31m---------------------------------------------------------------------------\u001B[0m",
      "\u001B[0;31mAttributeError\u001B[0m                            Traceback (most recent call last)",
      "Input \u001B[0;32mIn [43]\u001B[0m, in \u001B[0;36m<module>\u001B[0;34m\u001B[0m\n\u001B[0;32m----> 1\u001B[0m trips\u001B[38;5;241m=\u001B[39m\u001B[43msa_approach\u001B[49m\u001B[43m(\u001B[49m\u001B[38;5;241;43m5\u001B[39;49m\u001B[43m,\u001B[49m\u001B[38;5;241;43m4\u001B[39;49m\u001B[43m,\u001B[49m\u001B[38;5;241;43m25\u001B[39;49m\u001B[43m,\u001B[49m\u001B[38;5;241;43m13\u001B[39;49m\u001B[43m,\u001B[49m\u001B[38;5;241;43m126\u001B[39;49m\u001B[43m,\u001B[49m\u001B[38;5;241;43m2500\u001B[39;49m\u001B[43m,\u001B[49m\u001B[38;5;241;43m0.126\u001B[39;49m\u001B[43m,\u001B[49m\u001B[43mJ\u001B[49m\u001B[43m,\u001B[49m\u001B[43mD\u001B[49m\u001B[43m)\u001B[49m\n",
      "Input \u001B[0;32mIn [39]\u001B[0m, in \u001B[0;36msa_approach\u001B[0;34m(n, m, ks, kr, kn, T_start, c, J, D)\u001B[0m\n\u001B[1;32m     50\u001B[0m \u001B[38;5;66;03m# select an action\u001B[39;00m\n\u001B[1;32m     51\u001B[0m n_actions\u001B[38;5;241m=\u001B[39mnp\u001B[38;5;241m.\u001B[39mrandom\u001B[38;5;241m.\u001B[39mrandint(\u001B[38;5;241m0\u001B[39m,\u001B[38;5;241m5\u001B[39m)\n\u001B[1;32m     52\u001B[0m \u001B[38;5;28;01mmatch\u001B[39;00m n_actions:\n\u001B[1;32m     53\u001B[0m     \u001B[38;5;28;01mcase\u001B[39;00m \u001B[38;5;241m0\u001B[39m:\n\u001B[1;32m     54\u001B[0m         \u001B[38;5;66;03m# Swap two relocation moves between two taxi trips\u001B[39;00m\n\u001B[1;32m     55\u001B[0m         Trips\u001B[38;5;241m.\u001B[39mswap_random_realocation_moves(trip1,trip2)\n\u001B[1;32m     56\u001B[0m     \u001B[38;5;28;01mcase\u001B[39;00m \u001B[38;5;241m1\u001B[39m:\n\u001B[1;32m     57\u001B[0m         \u001B[38;5;66;03m# Move a relocation move to another taxi trip\u001B[39;00m\n\u001B[0;32m---> 58\u001B[0m         \u001B[43mTrips\u001B[49m\u001B[38;5;241;43m.\u001B[39;49m\u001B[43mmove_random_realocation_moves\u001B[49m\u001B[43m(\u001B[49m\u001B[43mtrip1\u001B[49m\u001B[43m,\u001B[49m\u001B[43mtrip2\u001B[49m\u001B[43m)\u001B[49m\n\u001B[1;32m     59\u001B[0m \n\u001B[1;32m     60\u001B[0m     \u001B[38;5;28;01mcase\u001B[39;00m \u001B[38;5;241m2\u001B[39m:\n\u001B[1;32m     61\u001B[0m         \u001B[38;5;66;03m# Remove a drop-off point from a taxi trip\u001B[39;00m\n\u001B[1;32m     62\u001B[0m         Trips\u001B[38;5;241m.\u001B[39mremove_random_dropoff(trip1)\n\u001B[1;32m     63\u001B[0m \n\u001B[1;32m     64\u001B[0m     \u001B[38;5;28;01mcase\u001B[39;00m \u001B[38;5;241m3\u001B[39m:\n\u001B[1;32m     65\u001B[0m         \u001B[38;5;66;03m# Swap two drop-off points between two taxi trips\u001B[39;00m\n\u001B[1;32m     66\u001B[0m         Trips\u001B[38;5;241m.\u001B[39mswap_random_dropoff(trip1,trip2)\n\u001B[1;32m     67\u001B[0m \n\u001B[1;32m     68\u001B[0m     \u001B[38;5;28;01mcase\u001B[39;00m \u001B[38;5;241m4\u001B[39m:\n\u001B[1;32m     69\u001B[0m         \u001B[38;5;66;03m# Add a drop-off point to a taxi trip\u001B[39;00m\n\u001B[1;32m     70\u001B[0m         pi\u001B[38;5;241m=\u001B[39mnp\u001B[38;5;241m.\u001B[39mrandom\u001B[38;5;241m.\u001B[39mchoice(D, \u001B[38;5;241m1\u001B[39m)[\u001B[38;5;241m0\u001B[39m]\n\u001B[1;32m     71\u001B[0m         Trips\u001B[38;5;241m.\u001B[39madd_drop_off(trip1,pi)\n\u001B[1;32m     73\u001B[0m new_trips[selected_indexes_trips[\u001B[38;5;241m0\u001B[39m]]\u001B[38;5;241m=\u001B[39mtrip1\n\u001B[1;32m     74\u001B[0m new_trips[selected_indexes_trips[\u001B[38;5;241m1\u001B[39m]]\u001B[38;5;241m=\u001B[39mtrip2\n",
      "File \u001B[0;32m~/Documents/mathematical optimization/progetto/exam-mathematical-optimisation/Trips.py:19\u001B[0m, in \u001B[0;36mTrips.move_random_realocation_moves\u001B[0;34m(current_trip, destination_trip)\u001B[0m\n\u001B[1;32m     16\u001B[0m \u001B[38;5;129m@staticmethod\u001B[39m\n\u001B[1;32m     17\u001B[0m \u001B[38;5;28;01mdef\u001B[39;00m \u001B[38;5;21mmove_random_realocation_moves\u001B[39m(current_trip, destination_trip):\n\u001B[1;32m     18\u001B[0m     j1 \u001B[38;5;241m=\u001B[39m np\u001B[38;5;241m.\u001B[39mrandom\u001B[38;5;241m.\u001B[39mchoice(current_trip\u001B[38;5;241m.\u001B[39mJ, \u001B[38;5;241m1\u001B[39m)[\u001B[38;5;241m0\u001B[39m]\n\u001B[0;32m---> 19\u001B[0m     \u001B[43mdestination_trip\u001B[49m\u001B[38;5;241;43m.\u001B[39;49m\u001B[43mJ\u001B[49m\u001B[38;5;241;43m.\u001B[39;49m\u001B[43mappend\u001B[49m(j1)\n\u001B[1;32m     20\u001B[0m     current_trip\u001B[38;5;241m.\u001B[39mJ\u001B[38;5;241m.\u001B[39mremove(j1)\n",
      "\u001B[0;31mAttributeError\u001B[0m: 'numpy.ndarray' object has no attribute 'append'"
     ]
    }
   ],
   "source": [
    "trips=sa_approach(5,4,25,13,126,2500,0.126,J,D)\n"
   ],
   "metadata": {
    "collapsed": false
   }
  },
  {
   "cell_type": "code",
   "execution_count": null,
   "outputs": [],
   "source": [],
   "metadata": {
    "collapsed": false
   }
  }
 ],
 "metadata": {
  "kernelspec": {
   "display_name": "Python 3 (ipykernel)",
   "language": "python",
   "name": "python3"
  },
  "language_info": {
   "codemirror_mode": {
    "name": "ipython",
    "version": 3
   },
   "file_extension": ".py",
   "mimetype": "text/x-python",
   "name": "python",
   "nbconvert_exporter": "python",
   "pygments_lexer": "ipython3",
   "version": "3.10.0"
  }
 },
 "nbformat": 4,
 "nbformat_minor": 5
}
