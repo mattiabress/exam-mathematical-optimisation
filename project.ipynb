{
 "cells": [
  {
   "cell_type": "code",
   "execution_count": 1,
   "id": "65c574a6",
   "metadata": {},
   "outputs": [],
   "source": [
    "import copy\n",
    "\n",
    "import numpy as np\n",
    "from Trip import Trip\n",
    "from Point import Point\n",
    "from Trips import Trips\n",
    "import math\n",
    "import matplotlib.pyplot as plt\n",
    "import gurobipy as gb\n",
    "from Simulation import Simulation"
   ]
  },
  {
   "cell_type": "markdown",
   "source": [
    "# SM"
   ],
   "metadata": {
    "collapsed": false
   }
  },
  {
   "cell_type": "code",
   "execution_count": null,
   "outputs": [],
   "source": [
    "def sm_matheuristic(J,D,trips):\n",
    "    I=range(len(trips))\n",
    "    # to construct theta\n",
    "    # TODO Controllare\n",
    "    theta=np.zeros((len(trips),len(J)))\n",
    "    for i in I:\n",
    "        for j in range(len(J)):\n",
    "            theta[i,j]=1 if any(obj.u == J[j].u and J[j].v for obj in trips[i].J) else 0\n",
    "\n",
    "    C=[]\n",
    "    for trip in trips:\n",
    "        time_pure_taxi_trip=trip.get_pure_taxi_trip()\n",
    "        trip_time_drop_off_array=trip.get_array_pure_taxi_trip_drop_off()\n",
    "        realocation_move_time_array=[]\n",
    "\n",
    "        for j in trip.J:\n",
    "            time_plus_realocation=copy.deepcopy(trip_time_drop_off_array)\n",
    "            for idx, pi_p in enumerate(trip.pi):\n",
    "                realocation_move_time=Trip.get_travel_time_relocation_move(j,pi_p)\n",
    "                time_plus_realocation[idx]+=realocation_move_time\n",
    "\n",
    "            realocation_move_time_array.append(min(time_plus_realocation))\n",
    "\n",
    "        time_result=max(time_pure_taxi_trip,max(realocation_move_time_array))\n",
    "        C.append(time_result)\n",
    "\n",
    "    sm_mip = gb.Model()\n",
    "    sm_mip.modelSense = gb.GRB.MINIMIZE #declare mimization\n",
    "    Y = sm_mip.addVars( [i for i in I], vtype=gb.GRB.BINARY)\n",
    "    for j in range(len(J)):\n",
    "        sm_mip.addConstr( gb.quicksum(Y[i]*theta[i,j] for i in I) >= 1 )\n",
    "\n",
    "    sm_mip.setObjective(gb.quicksum( Y[i]*C[i]  for i in I))\n",
    "    sm_mip.optimize()\n",
    "    print( \"\\n\", type(Y), Y, \"\\n\")\n",
    "    print(\"\\nSolution\")\n",
    "\n",
    "    for i in I:\n",
    "        print(f'Y[{i}]= {Y[i].x}')"
   ],
   "metadata": {
    "collapsed": false
   }
  },
  {
   "cell_type": "code",
   "execution_count": null,
   "outputs": [],
   "source": [],
   "metadata": {
    "collapsed": false
   }
  },
  {
   "cell_type": "code",
   "execution_count": null,
   "outputs": [],
   "source": [
    "def trptr_problem(drop_off_points,n,m):\n",
    "    K=range(1,int(np.ceil(n/(np.ceil((m+1)/2))))+1)\n",
    "    R=range(1,m+1)\n",
    "    J= range(1,n+1)\n",
    "    D=range(len(drop_off_points))\n",
    "    #d=[]\n",
    "    #delta=[]\n",
    "    central_depot_s=0\n",
    "    central_depot_e=central_depot_s\n",
    "    M=1000\n",
    "    trptr_mip = gb.Model()\n",
    "    trptr_mip.modelSense = gb.GRB.MINIMIZE\n",
    "    # Variables\n",
    "    t = trptr_mip.addVars( [(k,i) for k in K for i in D],lb=0, vtype=gb.GRB.CONTINUOUS)\n",
    "    C = trptr_mip.addVars( [k for k in K],lb=0, vtype=gb.GRB.CONTINUOUS)\n",
    "    S = trptr_mip.addVars( [(k,i,p) for k in K for i in D for p in R], vtype=gb.GRB.BINARY)\n",
    "    Y = trptr_mip.addVars( [(j,i) for j in J for i in D], vtype=gb.GRB.BINARY)\n",
    "    X = trptr_mip.addVars( [(k,j) for k in K for j in J], vtype=gb.GRB.BINARY)\n",
    "\n",
    "    # Contraints\n",
    "    #X(k,j)=1\n",
    "    for j in J:\n",
    "        trptr_mip.addConstr( gb.quicksum(X[k,j] for k in K) == 1 )\n",
    "    # Y(j,i)=1\n",
    "    for j in J:\n",
    "        trptr_mip.addConstr( gb.quicksum(Y[j,i] for i in D) == 1 )\n",
    "\n",
    "    for k in K:\n",
    "        trptr_mip.addConstr( gb.quicksum(X[k,j] for j in J) <= m)\n",
    "\n",
    "    for k in K:\n",
    "        for j in J:\n",
    "            for i in D:\n",
    "                 trptr_mip.addConstr(X[k,j]+Y[j,i]<=1+ gb.quicksum(S[k,i,p] for p in R))\n",
    "\n",
    "    for k in K:\n",
    "        for p in R:\n",
    "            trptr_mip.addConstr(gb.quicksum(S[k,i,p] for i in D)<=1)\n",
    "\n",
    "    for k in K:\n",
    "        for i in D:\n",
    "            trptr_mip.addConstr(gb.quicksum(S[k,i,p] for p in R)<=1)\n",
    "\n",
    "    for k in K:\n",
    "        for p in [x for x in R if x != 1]:\n",
    "            trptr_mip.addConstr(gb.quicksum(S[k,i,p] for i in D)<=gb.quicksum(S[k,i,p-1] for i in D))\n",
    "\n",
    "    # t's constraints\n",
    "    for k in K:\n",
    "        for i in D:\n",
    "            #trptr_mip.addConstr(t[k,i]>=S[k,i,1]*delta[central_depot_s,i])\n",
    "            trptr_mip.addConstr(t[k,i]>=S[k,i,1]*Trip.get_travel_time_drop_off(central_depot_s,i))\n",
    "\n",
    "    for k in K:\n",
    "        for i1 in D:\n",
    "            for i2 in [x for x in D if x != i1]: # D\\{i1}\n",
    "                for p in [x for x in R if x != 1]:\n",
    "                    #trptr_mip.addConstr(t[k,i2]>=t[k,i1]-M*(2-S[k,i1,p-1]-S[k,i2,p])+delta[i1,i2])\n",
    "                    trptr_mip.addConstr(t[k,i2]>=t[k,i1]-M*(2-S[k,i1,p-1]-S[k,i2,p])+ Trip.get_travel_time_drop_off(i1,i2))\n",
    "\n",
    "    # C's constraints\n",
    "    for k in K:\n",
    "        for j in J:\n",
    "            for i in D:\n",
    "                #trptr_mip.addConstr(C[k]>=t[k,i]-M*(2-X[k,j]-Y[j,i])+d[j,i])\n",
    "                trptr_mip.addConstr(C[k]>=t[k,i]-M*(2-X[k,j]-Y[j,i])+Trip.get_travel_time_relocation_move(j,i))\n",
    "\n",
    "    for k in K:\n",
    "        for i in D:\n",
    "            #trptr_mip.addConstr(C[k]>=t[k,i]-M*(1-gb.quicksum(S[k,i,p] for p in R))+delta[i,central_depot_e])\n",
    "            trptr_mip.addConstr(C[k]>=t[k,i]-M*(1-gb.quicksum(S[k,i,p] for p in R))+ Trip.get_travel_time_drop_off(i,central_depot_e))\n",
    "\n",
    "    for k in [x for x in K if x != 1]:\n",
    "        trptr_mip.addConstr(C[k]<=C[k-1])\n",
    "\n",
    "    # Objective function\n",
    "    trptr_mip.setObjective(gb.quicksum(C[k]  for k in K))\n",
    "    # Solution\n",
    "    trptr_mip.optimize()\n",
    "    print( \"\\n\", type(X), X, \"\\n\")\n",
    "    print( \"\\n\", type(Y), Y, \"\\n\")\n",
    "    print( \"\\n\", type(S), S, \"\\n\")\n",
    "    print(\"\\nSolution\")\n",
    "\n"
   ],
   "metadata": {
    "collapsed": false
   }
  },
  {
   "cell_type": "code",
   "execution_count": null,
   "outputs": [],
   "source": [],
   "metadata": {
    "collapsed": false
   }
  }
 ],
 "metadata": {
  "kernelspec": {
   "display_name": "Python 3 (ipykernel)",
   "language": "python",
   "name": "python3"
  },
  "language_info": {
   "codemirror_mode": {
    "name": "ipython",
    "version": 3
   },
   "file_extension": ".py",
   "mimetype": "text/x-python",
   "name": "python",
   "nbconvert_exporter": "python",
   "pygments_lexer": "ipython3",
   "version": "3.10.0"
  }
 },
 "nbformat": 4,
 "nbformat_minor": 5
}
