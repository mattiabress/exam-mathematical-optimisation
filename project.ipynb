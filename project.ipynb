{
 "cells": [
  {
   "cell_type": "code",
   "execution_count": 2,
   "id": "65c574a6",
   "metadata": {},
   "outputs": [],
   "source": [
    "import numpy as np\n",
    "from Trip import Trip\n",
    "from Point import Point\n",
    "from Trips import Trips\n",
    "import math\n",
    "import matplotlib.pyplot as plt\n",
    "import gurobipy as gb\n"
   ]
  },
  {
   "cell_type": "markdown",
   "source": [
    "# CC"
   ],
   "metadata": {
    "collapsed": false
   }
  },
  {
   "cell_type": "code",
   "execution_count": 42,
   "id": "608ad315",
   "metadata": {},
   "outputs": [],
   "source": [
    "#  customized clustering procedure\n",
    "def cc_procedure(J,R,D):\n",
    "    # n is number of realocation moves J={1, ..., n}\n",
    "    # m is number of realocators R={1, ..., m}\n",
    "    n=len(J)\n",
    "    m=len(R)\n",
    "\n",
    "    #initialize a new Trip\n",
    "    new_trip=Trip([],[],0)\n",
    "\n",
    "    p=np.floor(n/m)/(np.floor(n/m)+1)\n",
    "    n_hat=0\n",
    "    # controllare\n",
    "    if np.random.uniform(0,1)<=p:\n",
    "        n_hat=np.random.randint(np.ceil((m+1)/2),m)\n",
    "    else:\n",
    "        n_hat=np.random.randint(1,np.ceil((m+1)/2)) #TODO sistemare che metta il secondo incluso\n",
    "\n",
    "    j=J[np.random.randint(0,len(J))] # len(J) = |J|\n",
    "    # update\n",
    "    new_trip.J.append(j) #J'={j} # TODO sistemare si può mettere un metodo dentro Trip\n",
    "    J.remove(j) # J=J\\{j}   P= (u_j^c,v_j^c)\n",
    "    \n",
    "    while len(new_trip.J)<n_hat and len(J)!=0:\n",
    "        p=[]\n",
    "        for j in J:\n",
    "            p_j=0.0\n",
    "            for q in J:\n",
    "                distance_j=new_trip.distance_from_cluster_center(j)\n",
    "                distance_q=new_trip.distance_from_cluster_center(q)\n",
    "                p_j+=distance_j/distance_q if distance_q!=0 else 0\n",
    "            p.append(p_j**-1 if p_j!=0 else 0.0)\n",
    "        j=np.random.choice(J, 1, p)[0] # sample from J\n",
    "        new_trip.J.append(j) #J'={j} # TODO sistemare si può mettere un metodo dentro Trip\n",
    "        J.remove(j) # J=J\\{j}\n",
    "\n",
    "    l=1\n",
    "    pi=[]\n",
    "\n",
    "    # line 7\n",
    "    probability=[]\n",
    "    for selected_pi in D:\n",
    "        p_pi=0.0\n",
    "        for q in D:\n",
    "            distance_pi=new_trip.distance_from_cluster_center(selected_pi)\n",
    "            sum_distance_dropoff=new_trip.distance_from_cluster_center(q)\n",
    "            p_pi+=distance_pi/sum_distance_dropoff if sum_distance_dropoff!=0 else 0\n",
    "        probability.append(p_pi**-1 if p_pi!=0 else 0.0)\n",
    "\n",
    "    pi_l=np.random.choice(D, 1, probability)[0]\n",
    "    new_trip.pi.append(pi_l) # pi={pi_l} #TODO  sistemare con un metodo\n",
    "    D.remove(pi_l) # D=D\\{pi_l}\n",
    "\n",
    "    #calculate total duration C of taxi trip pi according to relocation J'\n",
    "    C=new_trip.duration()\n",
    "\n",
    "    while len(D)!=0:\n",
    "        #determine drop-off point q in D which decreases C most\n",
    "        if(q != None):\n",
    "            l=l+1\n",
    "            pi_l=q\n",
    "            D.remove(q)\n",
    "        else:\n",
    "            D=[]"
   ]
  },
  {
   "cell_type": "markdown",
   "source": [
    "# SA\n"
   ],
   "metadata": {
    "collapsed": false
   }
  },
  {
   "cell_type": "code",
   "execution_count": null,
   "outputs": [],
   "source": [
    "# FIX IT\n",
    "# TODO error when n=10, m=1 because n_realocation_moves becomes 0 so all trips have 0 reallocation moves except the last one which has all reallocation moves\n",
    "def sa_approach(n,m,ks,kr,kn,T_start,c,J,D):\n",
    "    # ks -> number of restarts\n",
    "    # kr -> number of rehats\n",
    "    # T_start -> initial temperature\n",
    "    # c -> cooling parameter\n",
    "    # By varying these parameters and caching not only the best solution found so far, but also the temporary best solution, i.e., before reheat and restart\n",
    "    # we obtain a pool of taxi trips by splitting the cached solutions, i.e., taxi tour, into the single trips\n",
    "\n",
    "    for i in range(ks):\n",
    "        # generate random feasible solution\n",
    "        # set initial current state sc\n",
    "        n_trips=int(np.ceil(n/(np.ceil((m+1)/2))))\n",
    "        trips=[]\n",
    "        for i in range(n_trips):\n",
    "            k=np.random.randint(1,m+1) # number of drop-off points\n",
    "            pi=np.random.choice(D, k,replace=False) #These drop-off points are randomly chosen\n",
    "\n",
    "            # the relocation moves are randomly spread between the different trips.\n",
    "\n",
    "            n_realocation_moves=int(len(J)/n_trips) # TODO we can improve using the normal distribution to select the right dimension\n",
    "\n",
    "            J_prime=np.random.choice(J, n_realocation_moves,replace=False)\n",
    "            if i==n_trips-1:\n",
    "                J_prime=J.copy()\n",
    "            for j in J_prime:\n",
    "                J.remove(j)\n",
    "            trip=Trip(J_prime,pi,k)\n",
    "            trips.append(trip)\n",
    "            # Finally, for each trip and its assigned relocation moves, we execute each relocation from the closest drop-off point increasing the trip duration least.\n",
    "\n",
    "            # if I understood well, it means we have to take the closest drop off point to the relocation moves to select in the time duration\n",
    "\n",
    "        trips_star=trips.copy() # optimal solution\n",
    "\n",
    "        for j in range(kr):\n",
    "            T=T_start\n",
    "            not_improved=0\n",
    "            new_trips=trips.copy()\n",
    "            while not_improved<kn:\n",
    "                not_improved+=1\n",
    "                # Sn= neighbour of current state Sc\n",
    "\n",
    "                selected_indexes_trips=np.random.choice(range(len(new_trips)), 2,replace=False)\n",
    "                print(selected_indexes_trips)\n",
    "                trip1=new_trips[selected_indexes_trips[0]].copy()\n",
    "                trip2=new_trips[selected_indexes_trips[1]].copy()\n",
    "\n",
    "                # select an action\n",
    "                n_actions=np.random.randint(0,5)\n",
    "                match n_actions:\n",
    "                    case 0:\n",
    "                        # Swap two relocation moves between two taxi trips\n",
    "                        Trips.swap_random_realocation_moves(trip1,trip2)\n",
    "                    case 1:\n",
    "                        # Move a relocation move to another taxi trip\n",
    "                        Trips.move_random_realocation_moves(trip1,trip2)\n",
    "\n",
    "                    case 2:\n",
    "                        # Remove a drop-off point from a taxi trip\n",
    "                        Trips.remove_random_dropoff(trip1)\n",
    "\n",
    "                    case 3:\n",
    "                        # Swap two drop-off points between two taxi trips\n",
    "                        Trips.swap_random_dropoff(trip1,trip2)\n",
    "\n",
    "                    case 4:\n",
    "                        # Add a drop-off point to a taxi trip\n",
    "                        pi=np.random.choice(D, 1)[0]\n",
    "                        Trips.add_drop_off(trip1,pi)\n",
    "\n",
    "                new_trips[selected_indexes_trips[0]]=trip1\n",
    "                new_trips[selected_indexes_trips[1]]=trip2\n",
    "\n",
    "                # TODO sistemare sbagliato\n",
    "\n",
    "                z_trips=Trips.get_total_duration(trips)\n",
    "                z_new_trips=Trips.get_total_duration(new_trips)\n",
    "\n",
    "                # TODO sistemare sbagliato\n",
    "                if(z_new_trips<z_trips):\n",
    "                    # sc=sn update current\n",
    "                    trips=new_trips\n",
    "                    z_trips=z_new_trips\n",
    "                    not_improved=0\n",
    "                    z_trips_star=Trips.get_total_duration(trips_star)\n",
    "                    if(z_trips<z_trips_star):\n",
    "                        trips_star=trips\n",
    "                else:\n",
    "                    #with probability exp() assign sc=sn\n",
    "                    exp_lambda= (z_new_trips-z_trips)/T\n",
    "                    exponential_sample=np.random.exponential(1/exp_lambda) # TODO sistemare calcolo probabilità\n",
    "                    trips=new_trips if exponential_sample<1/exp_lambda else trips # sc=sn if probability else sc\n",
    "                T=T*c\n"
   ],
   "metadata": {
    "collapsed": false
   }
  },
  {
   "cell_type": "code",
   "execution_count": null,
   "outputs": [],
   "source": [],
   "metadata": {
    "collapsed": false
   }
  },
  {
   "cell_type": "markdown",
   "source": [
    "# SAM"
   ],
   "metadata": {
    "collapsed": false
   }
  },
  {
   "cell_type": "code",
   "execution_count": null,
   "outputs": [],
   "source": [
    "def sam_matheuristic(trips, J, D):\n",
    "    m=1\n",
    "    # I-> trips\n",
    "    I=range(len(trips))\n",
    "\n",
    "    # preparate the variables\n",
    "    C=[]\n",
    "    for i in I:\n",
    "        C.append(trips[i].get_pure_taxi_trip())\n",
    "\n",
    "    delta=np.zeros((len(trips),len(J)))\n",
    "\n",
    "\n",
    "    for i in I:\n",
    "        for j in J: # TODO sitemare sbagliato diff\n",
    "            diff=10-C[i]\n",
    "            delta[i,j]=max(0,diff)\n",
    "\n",
    "\n",
    "\n",
    "\n",
    "\n",
    "    sam_mip = gb.Model()\n",
    "    sam_mip.modelSense = gb.GRB.MAXIMIZE #declare mimization\n",
    "    X = sam_mip.addVars( [(i,j) for i in I for j in range(len(J))], vtype=gb.GRB.BINARY) #this way of declare vars does not allow to work with matrix multiplication (X is a tuple dict)\n",
    "    Y = sam_mip.addVars( [i for i in I], vtype=gb.GRB.BINARY)\n",
    "    #Xi,j==1\n",
    "    for j in range(len(J)):\n",
    "        sam_mip.addConstr( gb.quicksum(X[i,j] for i in I) == 1 )\n",
    "    # X(i,j)<=Y(i)*m\n",
    "    for i in I:\n",
    "        sam_mip.addConstr( gb.quicksum(X[i,j] for j in range(len(J))) <= Y[i] * m)\n",
    "    # TODO sistemare\n",
    "    b=[]\n",
    "\n",
    "\n",
    "    for j in range(len(J)):\n",
    "        for i in I: # b[i]>=X[i,j]*delta[i,j]\n",
    "            sam_mip.addConstr( b[i] >= X[i,j] * delta[i,j])\n",
    "\n",
    "    sam_mip.setObjective(gb.quicksum( Y[i]*C[i]+b[i]  for i in I))\n",
    "\n",
    "    sam_mip.optimize()\n",
    "\n",
    "    print( \"\\n\", type(X), X, \"\\n\")\n",
    "    print(\"\\nSolution\")\n",
    "\n",
    "    for i in I:\n",
    "      for j in range(len(J)):\n",
    "        if X[i,j].x == 1:  #to access the variable value\n",
    "          print(\"Machine \", i, \" is assigned to task \", j)"
   ],
   "metadata": {
    "collapsed": false
   }
  },
  {
   "cell_type": "markdown",
   "source": [
    "# SM"
   ],
   "metadata": {
    "collapsed": false
   }
  },
  {
   "cell_type": "code",
   "execution_count": null,
   "outputs": [],
   "source": [
    "def sm_matheuristic(trips,J,D):\n",
    "    I=range(len(trips))\n",
    "    # to construct theta\n",
    "    # TODO Controllare\n",
    "    theta=np.zeros((len(trips),len(J)))\n",
    "    for i in I:\n",
    "        for j in range(len(J)):\n",
    "            theta[i,j]=1 if any(obj.u == j.u and obj.v==j.v for obj in trips[i].J) else 0\n",
    "    C=[]\n",
    "    sm_mip = gb.Model()\n",
    "    sm_mip.modelSense = gb.GRB.MAXIMIZE #declare mimization\n",
    "    Y = sm_mip.addVars( [i for i in I], vtype=gb.GRB.BINARY)\n",
    "    for j in range(len(J)):\n",
    "        sm_mip.addConstr( gb.quicksum(Y[i]*theta[i,j] for i in I) >= 1 )\n",
    "\n",
    "    sm_mip.setObjective(gb.quicksum( Y[i]*C[i]  for i in I))\n",
    "    sm_mip.optimize()\n",
    "    print( \"\\n\", type(Y), Y, \"\\n\")\n",
    "    print(\"\\nSolution\")\n",
    "\n",
    "    for i in I:\n",
    "        print(f'Y[{i}]= {Y[i]}')"
   ],
   "metadata": {
    "collapsed": false
   }
  },
  {
   "cell_type": "markdown",
   "source": [
    "# Local search"
   ],
   "metadata": {
    "collapsed": false
   }
  },
  {
   "cell_type": "code",
   "execution_count": null,
   "outputs": [],
   "source": [
    "def local_search(trips,J,D,kn):\n",
    "    initial_solution=trips.copy()\n",
    "    notImproved=0\n",
    "    while notImproved<kn:\n",
    "        notImproved+=1\n",
    "        # select current neighborhood with equal probability\n",
    "        # generate new solution sn from sc for the current neighborhood\n",
    "        new_solution=0 # TODO sistemare\n",
    "        z_trips=Trips.get_total_duration(initial_solution)\n",
    "        z_new_trips=Trips.get_total_duration(new_solution)\n",
    "\n",
    "        if(z_new_trips<z_trips):\n",
    "            # sc=sn update current\n",
    "            initial_solution=new_solution\n",
    "            z_trips=z_new_trips\n",
    "            not_improved=0\n",
    "    return initial_solution"
   ],
   "metadata": {
    "collapsed": false
   }
  },
  {
   "cell_type": "code",
   "execution_count": null,
   "outputs": [],
   "source": [],
   "metadata": {
    "collapsed": false
   }
  },
  {
   "cell_type": "code",
   "execution_count": null,
   "outputs": [],
   "source": [
    "def trptr_problem():\n"
   ],
   "metadata": {
    "collapsed": false
   }
  },
  {
   "cell_type": "code",
   "execution_count": null,
   "outputs": [],
   "source": [],
   "metadata": {
    "collapsed": false
   }
  },
  {
   "cell_type": "code",
   "execution_count": null,
   "outputs": [],
   "source": [],
   "metadata": {
    "collapsed": false
   }
  },
  {
   "cell_type": "code",
   "execution_count": null,
   "outputs": [],
   "source": [],
   "metadata": {
    "collapsed": false
   }
  }
 ],
 "metadata": {
  "kernelspec": {
   "display_name": "Python 3 (ipykernel)",
   "language": "python",
   "name": "python3"
  },
  "language_info": {
   "codemirror_mode": {
    "name": "ipython",
    "version": 3
   },
   "file_extension": ".py",
   "mimetype": "text/x-python",
   "name": "python",
   "nbconvert_exporter": "python",
   "pygments_lexer": "ipython3",
   "version": "3.10.0"
  }
 },
 "nbformat": 4,
 "nbformat_minor": 5
}
